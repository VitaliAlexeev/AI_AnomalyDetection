{
 "cells": [
  {
   "cell_type": "markdown",
   "id": "8a07adb5-73e2-4d95-8487-e8cbd53837b0",
   "metadata": {},
   "source": [
    "# Simple LDA\n",
    "\n",
    "A minimum working example to showcase topic modeling concepts."
   ]
  },
  {
   "cell_type": "code",
   "execution_count": 24,
   "id": "8a0ef5e5-3462-4cdf-b57c-c52a9f1d6123",
   "metadata": {},
   "outputs": [],
   "source": [
    "from gensim.corpora.dictionary import Dictionary\n",
    "from gensim.models import LdaModel\n",
    "\n",
    "# (optional) some predefined samples for testing\n",
    "from gensim.test.utils import common_texts\n",
    "from gensim.test.utils import common_dictionary, common_corpus\n",
    "\n",
    "# Plotting tools\n",
    "import pyLDAvis\n",
    "import pyLDAvis.gensim  # don't skip this\n",
    "import matplotlib.pyplot as plt\n",
    "\n",
    "from pprint import pprint  # data pretty printer - provides a capability to “pretty-print” arbitrary Python data structures"
   ]
  },
  {
   "cell_type": "code",
   "execution_count": 25,
   "id": "7b9aafda-f7e9-499a-a2f2-ef8f339acc67",
   "metadata": {},
   "outputs": [],
   "source": [
    "# Create a corpus from a list of texts\n",
    "\n",
    "# A. Load and define your text\n",
    "mytext=[['human', 'interface', 'computer'],\n",
    "        ['survey', 'user', 'computer', 'system', 'response', 'time'],\n",
    "        ['eps', 'user', 'interface', 'system'],\n",
    "        ['system', 'human', 'system', 'eps'],\n",
    "        ['user', 'response', 'time'],\n",
    "        ['trees'],\n",
    "        ['graph', 'trees'],\n",
    "        ['graph', 'minors', 'trees'],\n",
    "        ['graph', 'minors', 'survey']]\n",
    "\n",
    "# B. Create Dictionary\n",
    "dictionary = Dictionary(mytext)\n",
    "\n",
    "# C. Term Document Frequency\n",
    "corpus = [dictionary.doc2bow(text) for text in mytext]"
   ]
  },
  {
   "cell_type": "code",
   "execution_count": 26,
   "id": "15c1b867-0184-4fcb-8919-6f4bd9248ab8",
   "metadata": {},
   "outputs": [],
   "source": [
    "# (for debugging) using predefined corpus\n",
    "\n",
    "#mytext=common_texts\n",
    "#dictionary=common_dictionary\n",
    "#corpus=common_corpus"
   ]
  },
  {
   "cell_type": "code",
   "execution_count": 27,
   "id": "1f78c8a4-ea25-4f71-a86a-88f0cd131b9e",
   "metadata": {},
   "outputs": [
    {
     "data": {
      "text/plain": [
       "[[('computer', 1), ('human', 1), ('interface', 1)]]"
      ]
     },
     "execution_count": 27,
     "metadata": {},
     "output_type": "execute_result"
    }
   ],
   "source": [
    "# Human readable format of corpus (term-frequency)\n",
    "[[(dictionary[id], freq) for id, freq in cp] for cp in corpus[:1]]"
   ]
  },
  {
   "cell_type": "code",
   "execution_count": 28,
   "id": "ccd42a88-ecc7-4936-935c-29fcef094612",
   "metadata": {},
   "outputs": [],
   "source": [
    "# Train the model on the corpus.\n",
    "lda = LdaModel(corpus=corpus, id2word=dictionary, num_topics=5, passes=100)"
   ]
  },
  {
   "cell_type": "code",
   "execution_count": 29,
   "id": "ae9d167e-92da-4454-9258-c0d2931d7963",
   "metadata": {},
   "outputs": [
    {
     "name": "stdout",
     "output_type": "stream",
     "text": [
      "[(0,\n",
      "  '0.307*\"trees\" + 0.307*\"graph\" + 0.211*\"minors\" + 0.020*\"survey\" + '\n",
      "  '0.019*\"interface\" + 0.019*\"human\" + 0.019*\"user\" + 0.019*\"system\" + '\n",
      "  '0.019*\"response\" + 0.019*\"time\"'),\n",
      " (1,\n",
      "  '0.223*\"user\" + 0.222*\"response\" + 0.222*\"time\" + 0.037*\"survey\" + '\n",
      "  '0.037*\"interface\" + 0.037*\"human\" + 0.037*\"trees\" + 0.037*\"system\" + '\n",
      "  '0.037*\"graph\" + 0.037*\"minors\"'),\n",
      " (2,\n",
      "  '0.083*\"survey\" + 0.083*\"interface\" + 0.083*\"human\" + 0.083*\"user\" + '\n",
      "  '0.083*\"trees\" + 0.083*\"system\" + 0.083*\"graph\" + 0.083*\"minors\" + '\n",
      "  '0.083*\"response\" + 0.083*\"time\"'),\n",
      " (3,\n",
      "  '0.308*\"system\" + 0.211*\"eps\" + 0.115*\"human\" + 0.115*\"interface\" + '\n",
      "  '0.115*\"user\" + 0.019*\"survey\" + 0.019*\"trees\" + 0.019*\"response\" + '\n",
      "  '0.019*\"time\" + 0.019*\"graph\"'),\n",
      " (4,\n",
      "  '0.178*\"computer\" + 0.177*\"survey\" + 0.097*\"interface\" + 0.097*\"human\" + '\n",
      "  '0.097*\"response\" + 0.097*\"time\" + 0.097*\"user\" + 0.097*\"system\" + '\n",
      "  '0.016*\"minors\" + 0.016*\"graph\"')]\n"
     ]
    }
   ],
   "source": [
    "# Visualize keywords\n",
    "pprint(lda.print_topics())"
   ]
  },
  {
   "cell_type": "code",
   "execution_count": 23,
   "id": "91fd5439-9dbf-46d8-a7d1-b009e475bda3",
   "metadata": {},
   "outputs": [
    {
     "name": "stdout",
     "output_type": "stream",
     "text": [
      "Serving to http://127.0.0.1:8894/    [Ctrl-C to exit]\n"
     ]
    },
    {
     "name": "stderr",
     "output_type": "stream",
     "text": [
      "127.0.0.1 - - [25/Mar/2024 22:06:23] \"GET / HTTP/1.1\" 200 -\n"
     ]
    },
    {
     "name": "stdout",
     "output_type": "stream",
     "text": [
      "\n",
      "stopping Server...\n"
     ]
    }
   ],
   "source": [
    "# Visualize the topics\n",
    "pyLDAvis.enable_notebook()\n",
    "vis = pyLDAvis.gensim.prepare(lda, corpus, id2word)\n",
    "pyLDAvis.show(vis, local=False) # or you can simply run 'vis' for in-notebook view"
   ]
  },
  {
   "cell_type": "code",
   "execution_count": null,
   "id": "eecca724-02f6-4fd1-a583-b014c61ddf27",
   "metadata": {},
   "outputs": [],
   "source": []
  }
 ],
 "metadata": {
  "kernelspec": {
   "display_name": "Python 3 (ipykernel)",
   "language": "python",
   "name": "python3"
  },
  "language_info": {
   "codemirror_mode": {
    "name": "ipython",
    "version": 3
   },
   "file_extension": ".py",
   "mimetype": "text/x-python",
   "name": "python",
   "nbconvert_exporter": "python",
   "pygments_lexer": "ipython3",
   "version": "3.9.9"
  }
 },
 "nbformat": 4,
 "nbformat_minor": 5
}
