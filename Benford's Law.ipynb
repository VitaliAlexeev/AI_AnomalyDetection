{
 "cells": [
  {
   "cell_type": "markdown",
   "id": "3c28115f-56a4-4ab6-bc4b-0a7f38a7067c",
   "metadata": {},
   "source": [
    "# Benford's Law\n",
    "\n",
    "## Exploring the Mysteries of Numbers: The Story of Benford's Law\n",
    "\n",
    "Imagine stepping back in time to the early 20th century, a world without calculators or computers, where scientists and engineers relied on thick volumes of logarithm tables for their calculations. It was during this era that physicist Frank Benford, working at General Electric, noticed something peculiar: the first pages of these logarithm books, containing numbers starting with smaller digits, were more worn out than the last pages. This observation echoed an earlier, overlooked discovery by astronomer Simon Newcomb in 1881.\n",
    "\n",
    "Contrary to intuition, which suggests that the first digit of any number should follow a uniform distribution, with each digit from 1 to 9 having an equal chance of appearing, Benford found a different reality. He discovered that in many natural phenomena, the probability of the first digit being a certain number follows a logarithmic law. For example, the chance of the first digit being 1 is about 30.1%, while the chance of it being 9 is only 4.6%.\n",
    "\n",
    "But why do digits form this distribution? The answer lies in the nature of logarithmic scales. In a logarithmic distribution, there are more numbers starting with lower digits than with higher digits. This pattern is observed not just in numbers related to natural phenomena but also in various datasets like Twitter followers or Stack Overflow user reputation.\n",
    "\n",
    "Now, let's embark on a journey to two imaginary countries: Mediocreland and Extremeland. In Mediocreland, data follows a normal distribution, like the heights of employees in an organization. In Extremeland, however, data follows a potential distribution, where a single observation can significantly influence the total. Wealth distribution and social media followers are examples of data from Extremeland.\n",
    "\n",
    "Benford's Law applies to datasets from Extremeland, which are large, span multiple orders of magnitude, and exhibit scale invariance. These datasets must consist of positive numbers, be free of minimum or maximum values, and not be composed of assigned numbers like telephone numbers or postcodes. They should also be transactional, like sales or refunds.\n",
    "\n",
    "So, how is Benford's Law useful? It's a powerful tool for detecting fraud, manipulation, and network attacks. For example, financial accounts, stock prices, and customer refunds often follow Benford's Law. Deviations from the law can indicate fabricated data, as seen in Ponzi schemes like the Madoff scam. The law has also been used in image steganalysis, election data analysis, and detecting anomalies in drug discovery data.\n",
    "\n",
    "In the realm of cybersecurity, Benford's Law has been employed to detect internet traffic anomalies, such as DDoS attacks, by analyzing packet inter-arrival times. The beauty of this anomaly-based detection method is its simplicity and efficiency, requiring no deep packet inspection or learning, and it remains effective even with encrypted packet content.\n",
    "\n",
    "As we delve into the world of cybersecurity, let's remember to consider whether the first digit of numbers in a dataset follows Benford's Law. This simple yet profound observation might reveal unexpected anomalies and help us uncover the hidden stories behind the numbers."
   ]
  },
  {
   "cell_type": "markdown",
   "id": "c317d91b-8ab2-4ac7-b8ce-cb4c3bcd3647",
   "metadata": {},
   "source": [
    "## Import Necessary Libraries:"
   ]
  },
  {
   "cell_type": "code",
   "execution_count": 3,
   "id": "506e7515-a21c-4300-a38c-f8de657c6466",
   "metadata": {},
   "outputs": [
    {
     "data": {
      "text/plain": [
       "'0.2.37'"
      ]
     },
     "execution_count": 3,
     "metadata": {},
     "output_type": "execute_result"
    }
   ],
   "source": [
    "import pandas as pd\n",
    "import numpy as np\n",
    "import matplotlib.pyplot as plt\n",
    "#!pip install --upgrade yfinance\n",
    "import yfinance as yf\n",
    "import seaborn as sns\n",
    "yf.__version__"
   ]
  },
  {
   "cell_type": "markdown",
   "id": "4bbfa9a3-6f26-473c-b60b-25c675802923",
   "metadata": {},
   "source": [
    "## Define Benford's Law Function:\n",
    "This function calculates the expected distribution of first digits according to Benford's Law."
   ]
  },
  {
   "cell_type": "code",
   "execution_count": 4,
   "id": "882ccdc9-c66c-487e-a848-4d3c3080d39c",
   "metadata": {},
   "outputs": [],
   "source": [
    "def benfords_law(digit):\n",
    "    return np.log10(1 + 1/digit)"
   ]
  },
  {
   "cell_type": "markdown",
   "id": "ac70fce2-7a78-4abc-97f9-260d216c18f1",
   "metadata": {},
   "source": [
    "## Prepare Your Data:\n",
    "Load your dataset and extract the first digits. For example, if you have a list of numbers:"
   ]
  },
  {
   "cell_type": "code",
   "execution_count": 21,
   "id": "525b14dc-7ecd-422f-9794-737544199fb8",
   "metadata": {},
   "outputs": [
    {
     "name": "stderr",
     "output_type": "stream",
     "text": [
      "[*********************100%%**********************]  1 of 1 completed\n"
     ]
    }
   ],
   "source": [
    "# Option A: Your dataset\n",
    "data = [123, 456, 789, 101112, 131415, 123, 38, 393, 929, 1029, 3399, 3939, 393, 9292] \n",
    "\n",
    "# Option b: Load the tips dataset and use, for example, the 'total_bill' column for analysis\n",
    "tips_data = sns.load_dataset('tips')\n",
    "data = tips_data['total_bill'].tolist()\n",
    "\n",
    "# Option C: Stock price data from Yahoo Finance:\n",
    "data = yf.download(\"MSFT\", start='2020-01-01', end='2024-01-01')['Close'].tolist()\n",
    "\n",
    "# Option D: For cross-sectional data, you can use a dataset that includes a snapshot of various financial metrics \n",
    "# for different companies at a specific point in time. One such dataset is the \"500_Companies.csv\" dataset, \n",
    "# which contains financial data for companies in the S&P 500 index.\n",
    "url = \"data/constituents-financials.csv\" # \"https://github.com/datasets/s-and-p-500-companies-financials/blob/main/data/constituents-financials.csv\"\n",
    "companies_data = pd.read_csv(url)\n",
    "data = companies_data['Market Cap'].dropna().tolist()"
   ]
  },
  {
   "cell_type": "code",
   "execution_count": 22,
   "id": "88adf5d3-4d3b-4d19-8fc8-b193bc08e99e",
   "metadata": {},
   "outputs": [
    {
     "data": {
      "text/plain": [
       "505"
      ]
     },
     "execution_count": 22,
     "metadata": {},
     "output_type": "execute_result"
    }
   ],
   "source": [
    "len(data)"
   ]
  },
  {
   "cell_type": "markdown",
   "id": "e4f9b61e-bada-4801-8f40-adc88f309aa6",
   "metadata": {},
   "source": [
    "### Extract the first digits"
   ]
  },
  {
   "cell_type": "code",
   "execution_count": 23,
   "id": "ecb77411-606e-4cbb-96d1-379761a2e658",
   "metadata": {},
   "outputs": [],
   "source": [
    "first_digits = [int(str(number)[0]) for number in data if number > 0]"
   ]
  },
  {
   "cell_type": "markdown",
   "id": "43d3cefa-0493-4664-90dc-3fd94566e744",
   "metadata": {},
   "source": [
    "## Calculate Actual Distribution:\n",
    "Count the occurrences of each first digit in your dataset."
   ]
  },
  {
   "cell_type": "code",
   "execution_count": 24,
   "id": "d3fa1c18-db9b-4f4c-989e-ac56535cae6a",
   "metadata": {},
   "outputs": [],
   "source": [
    "digit_counts = pd.Series(first_digits).value_counts().sort_index()"
   ]
  },
  {
   "cell_type": "markdown",
   "id": "9c293d77-f92c-4cb9-b00f-6ad37ab8f335",
   "metadata": {},
   "source": [
    "## Calculate Expected Distribution:\n",
    "Apply Benford's Law to get the expected distribution."
   ]
  },
  {
   "cell_type": "code",
   "execution_count": 25,
   "id": "aa2231fe-7e37-40ac-94c6-dca8c41d0bf4",
   "metadata": {},
   "outputs": [],
   "source": [
    "expected_counts = [benfords_law(digit) * len(first_digits) for digit in range(1, 10)]"
   ]
  },
  {
   "cell_type": "markdown",
   "id": "98b378f2-e502-4947-9374-225c482a124b",
   "metadata": {},
   "source": [
    "## Compare Distributions:\n",
    "Visualize the actual and expected distributions to compare them."
   ]
  },
  {
   "cell_type": "code",
   "execution_count": 26,
   "id": "52690888-50f8-49e2-a2f0-9c3c72aca384",
   "metadata": {},
   "outputs": [
    {
     "data": {
      "image/png": "[encoded data removed]",
      "text/plain": [
       "<Figure size 1000x500 with 1 Axes>"
      ]
     },
     "metadata": {},
     "output_type": "display_data"
    }
   ],
   "source": [
    "plt.figure(figsize=(10, 5))\n",
    "plt.bar(digit_counts.index, digit_counts.values, label='Actual', alpha=0.7, width=0.4, align='center')\n",
    "plt.bar(range(1, 10), expected_counts, label='Expected (Benford\\'s Law)', alpha=0.7, width=0.4, align='edge')\n",
    "plt.xlabel('First Digit')\n",
    "plt.ylabel('Frequency')\n",
    "plt.title('Benford\\'s Law Analysis')\n",
    "plt.legend()\n",
    "plt.xticks(range(1, 10))\n",
    "plt.show()"
   ]
  },
  {
   "cell_type": "markdown",
   "id": "ac63a0d0-d1e4-4ead-870e-5ff9d0fd1671",
   "metadata": {},
   "source": [
    "## Interpret the Results:\n",
    "Compare the actual and expected distributions to see if your data conforms to Benford's Law. Significant deviations may indicate anomalies or potential fraud.\n",
    "\n",
    "This is a basic implementation. Depending on your data and requirements, you might need to adjust the code, especially the data preparation step. For more sophisticated analysis, you can perform statistical tests to quantify the conformity of your data to Benford's Law.\n",
    "\n",
    "## Interactive on-line component\n",
    "https://testingbenfordslaw.com/"
   ]
  },
  {
   "cell_type": "code",
   "execution_count": null,
   "id": "9375cc4c-265f-47a9-91ab-4a161bc4201b",
   "metadata": {},
   "outputs": [],
   "source": []
  }
 ],
 "metadata": {
  "kernelspec": {
   "display_name": "Python 3 (ipykernel)",
   "language": "python",
   "name": "python3"
  },
  "language_info": {
   "codemirror_mode": {
    "name": "ipython",
    "version": 3
   },
   "file_extension": ".py",
   "mimetype": "text/x-python",
   "name": "python",
   "nbconvert_exporter": "python",
   "pygments_lexer": "ipython3",
   "version": "3.9.9"
  }
 },
 "nbformat": 4,
 "nbformat_minor": 5
}
